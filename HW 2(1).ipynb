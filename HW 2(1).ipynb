{
 "cells": [
  {
   "cell_type": "code",
   "execution_count": 3,
   "id": "afdf7fbd",
   "metadata": {},
   "outputs": [
    {
     "name": "stdout",
     "output_type": "stream",
     "text": [
      "0\n",
      "1\n",
      "2\n",
      "3\n",
      "4\n"
     ]
    }
   ],
   "source": [
    "#Question 1\n",
    "n = 0\n",
    "while n < 10:\n",
    "    print(n)\n",
    "    n +=1\n",
    "    if n==5:\n",
    "        break"
   ]
  },
  {
   "cell_type": "code",
   "execution_count": 1,
   "id": "a574b3a6",
   "metadata": {},
   "outputs": [
    {
     "name": "stdout",
     "output_type": "stream",
     "text": [
      "0\n",
      "1\n",
      "2\n",
      "3\n",
      "4\n",
      "5 is not less than 5\n"
     ]
    }
   ],
   "source": [
    "#Question 2\n",
    "n= 0\n",
    "while n < 5:\n",
    "    print (n)\n",
    "    n= n+1\n",
    "else:\n",
    "    print(n, \"is not less than 5\")"
   ]
  },
  {
   "cell_type": "code",
   "execution_count": 5,
   "id": "4cc7eae9",
   "metadata": {},
   "outputs": [
    {
     "name": "stdout",
     "output_type": "stream",
     "text": [
      "I like banana\n",
      "I like orange\n",
      "apple is really a fruit?\n"
     ]
    }
   ],
   "source": [
    "#Question 3\n",
    "fruits=['banana','orange','apple']\n",
    "for fruit in fruits:\n",
    "     if fruit== 'apple': \n",
    "            break\n",
    "     else:\n",
    "            print('I like', fruit)\n",
    "print('apple is really a fruit?')\n",
    "    \n",
    "\n",
    "   \n",
    "\n",
    "   "
   ]
  },
  {
   "cell_type": "code",
   "execution_count": 6,
   "id": "03693383",
   "metadata": {},
   "outputs": [
    {
     "name": "stdout",
     "output_type": "stream",
     "text": [
      "465\n"
     ]
    }
   ],
   "source": [
    "#Question 4\n",
    "n=30\n",
    "sum=0\n",
    "i=1\n",
    "\n",
    "while i <= n:\n",
    "    sum = sum + i\n",
    "    i = i+1\n",
    "print(sum)"
   ]
  },
  {
   "cell_type": "code",
   "execution_count": 11,
   "id": "21ca1b8f",
   "metadata": {},
   "outputs": [
    {
     "data": {
      "text/plain": [
       "{'Sunny': 'play', 'Rainy': 'watch TV', 'Cloudy': 'walk'}"
      ]
     },
     "execution_count": 11,
     "metadata": {},
     "output_type": "execute_result"
    }
   ],
   "source": [
    "#Question 5\n",
    "activity_and_weather = {'Sunny' : 'play','Rainy' : 'watch TV','Cloudy' : 'walk'}\n",
    "activity_and_weather"
   ]
  },
  {
   "cell_type": "code",
   "execution_count": 13,
   "id": "d3ef3c1b",
   "metadata": {},
   "outputs": [
    {
     "name": "stdout",
     "output_type": "stream",
     "text": [
      " When Sunny let us play\n",
      " When Rainy let us watch TV\n",
      " When Cloudy let us walk\n"
     ]
    }
   ],
   "source": [
    "for weather, activity in activity_and_weather.items():\n",
    "    print(f' When {weather} let us {activity}')"
   ]
  },
  {
   "cell_type": "code",
   "execution_count": 13,
   "id": "7993063d",
   "metadata": {},
   "outputs": [
    {
     "name": "stdout",
     "output_type": "stream",
     "text": [
      "{'Sunny': 'play', 'Rainy': 'watch TV', 'Cloudy': 'walk', 'snowy': 'ski'}\n"
     ]
    }
   ],
   "source": [
    "activity_and_weather = {'Sunny' : 'play','Rainy' : 'watch TV','Cloudy' : 'walk'}\n",
    "activity_and_weather['snowy']= 'ski'\n",
    "print(activity_and_weather)"
   ]
  },
  {
   "cell_type": "code",
   "execution_count": 10,
   "id": "0ef5471f",
   "metadata": {},
   "outputs": [
    {
     "name": "stdout",
     "output_type": "stream",
     "text": [
      "when Sunny play\n",
      "when Rainy watch TV\n",
      "when Cloudy walk\n"
     ]
    }
   ],
   "source": [
    "#Question 6\n",
    "activity_and_weather = {'Sunny' : 'play','Rainy' : 'watch TV','Cloudy' : 'walk'}\n",
    "for weather, activity in activity_and_weather.items():\n",
    "    if weather == 'Sunny':\n",
    "        print('when', weather,'play')\n",
    "    if weather == 'Rainy':\n",
    "        print('when' , weather ,'watch TV')\n",
    "else:\n",
    "       print ('when Cloudy walk')"
   ]
  },
  {
   "cell_type": "code",
   "execution_count": 16,
   "id": "a10a13dd",
   "metadata": {},
   "outputs": [
    {
     "name": "stdout",
     "output_type": "stream",
     "text": [
      "F\n"
     ]
    }
   ],
   "source": [
    "#Question 7\n",
    "grade=55\n",
    "if grade >=90:\n",
    "    print('A')\n",
    "elif grade >=80:\n",
    "    print('B')\n",
    "elif grade >=70:\n",
    "    print('C')\n",
    "elif grade >=60:\n",
    "    print('D')\n",
    "else:\n",
    "    print('F')"
   ]
  }
 ],
 "metadata": {
  "kernelspec": {
   "display_name": "Python 3",
   "language": "python",
   "name": "python3"
  },
  "language_info": {
   "codemirror_mode": {
    "name": "ipython",
    "version": 3
   },
   "file_extension": ".py",
   "mimetype": "text/x-python",
   "name": "python",
   "nbconvert_exporter": "python",
   "pygments_lexer": "ipython3",
   "version": "3.8.8"
  }
 },
 "nbformat": 4,
 "nbformat_minor": 5
}
