{
 "cells": [
  {
   "cell_type": "code",
   "execution_count": null,
   "id": "1015841e",
   "metadata": {},
   "outputs": [],
   "source": [
    "#Question 0:\n",
    "marks = {'Andy':88,'Amy':66, 'James':90, 'Jule':55,'Arthur':77}\n"
   ]
  },
  {
   "cell_type": "code",
   "execution_count": 3,
   "id": "bd3ec8d1",
   "metadata": {},
   "outputs": [
    {
     "name": "stdout",
     "output_type": "stream",
     "text": [
      "Andy 88\n",
      "Amy 66\n",
      "James 90\n",
      "Jule 55\n",
      "Arthur 77\n"
     ]
    }
   ],
   "source": [
    "#Question 1:\n",
    "marks = {'Andy':88, 'Amy':66, 'James':90, 'Jule':55,'Arthur':77}\n",
    "for name, grade in marks.items():\n",
    "    print(name, grade)"
   ]
  },
  {
   "cell_type": "code",
   "execution_count": 6,
   "id": "07c9504e",
   "metadata": {},
   "outputs": [
    {
     "name": "stdout",
     "output_type": "stream",
     "text": [
      "90\n"
     ]
    }
   ],
   "source": [
    "#Question 2:\n",
    "marks = {'Andy':88, 'Amy':66, 'James':90, 'Jule':55,'Arthur':77}\n",
    "all_value=marks.values()\n",
    "max_value=max(all_value)\n",
    "print(max_value)"
   ]
  },
  {
   "cell_type": "code",
   "execution_count": 7,
   "id": "14c5de61",
   "metadata": {},
   "outputs": [
    {
     "name": "stdout",
     "output_type": "stream",
     "text": [
      "55\n"
     ]
    }
   ],
   "source": [
    "marks = {'Andy':88, 'Amy':66, 'James':90, 'Jule':55,'Arthur':77}\n",
    "all_value1=marks.values()\n",
    "min_value=min(all_value1)\n",
    "print(min_value)"
   ]
  },
  {
   "cell_type": "code",
   "execution_count": 9,
   "id": "f0d7cdeb",
   "metadata": {},
   "outputs": [
    {
     "name": "stdout",
     "output_type": "stream",
     "text": [
      "75.2\n"
     ]
    }
   ],
   "source": [
    "marks = {'Andy':88, 'Amy':66, 'James':90, 'Jule':55,'Arthur':77}\n",
    "res=0\n",
    "for val in marks.values():\n",
    "    res+=val\n",
    "res=res/len(marks)\n",
    "print(res)"
   ]
  },
  {
   "cell_type": "code",
   "execution_count": 11,
   "id": "b74654a6",
   "metadata": {},
   "outputs": [
    {
     "name": "stdout",
     "output_type": "stream",
     "text": [
      "Andy\n",
      "Amy\n"
     ]
    }
   ],
   "source": [
    "#Question 3\n",
    "marks = {'Andy':88, 'Amy':66, 'James':90, 'Jule':55,'Arthur':77}\n",
    "for name in marks:\n",
    "    if 'J'in name:\n",
    "        break\n",
    "    print(name)\n"
   ]
  },
  {
   "cell_type": "code",
   "execution_count": 12,
   "id": "7741b3d1",
   "metadata": {},
   "outputs": [
    {
     "name": "stdout",
     "output_type": "stream",
     "text": [
      "Andy\n",
      "Amy\n",
      "Arthur\n"
     ]
    }
   ],
   "source": [
    "#Question 4\n",
    "marks = {'Andy':88, 'Amy':66, 'James':90, 'Jule':55,'Arthur':77}\n",
    "for name in marks:\n",
    "    if 'J'in name:\n",
    "        continue\n",
    "    print(name)\n"
   ]
  },
  {
   "cell_type": "code",
   "execution_count": 15,
   "id": "02782d23",
   "metadata": {},
   "outputs": [
    {
     "name": "stdout",
     "output_type": "stream",
     "text": [
      "90\n"
     ]
    }
   ],
   "source": [
    "#Question 5\n",
    "marks = {'Andy':88, 'Amy':66, 'James':90, 'Jule':55,'Arthur':77}\n",
    "def print_student(student_name):\n",
    "    marks = {'Andy':88, 'Amy':66, 'James':90, 'Jule':55,'Arthur':77}\n",
    "    for student in marks:\n",
    "        if student == student_name:\n",
    "            print(marks[student])\n",
    "#for example\n",
    "print_student('James')\n",
    "print_student('Qi')"
   ]
  },
  {
   "cell_type": "code",
   "execution_count": 20,
   "id": "839f199f",
   "metadata": {},
   "outputs": [
    {
     "name": "stdout",
     "output_type": "stream",
     "text": [
      "0\n",
      "0\n",
      "1\n",
      "1\n",
      "2\n",
      "4\n",
      "3\n",
      "9\n",
      "4\n",
      "16\n",
      "greater than 5\n"
     ]
    }
   ],
   "source": [
    "#Question 6\n",
    "def less_than(num):\n",
    "    n=0\n",
    "    while n <num:\n",
    "        print(n)\n",
    "        print(pow(n,2))\n",
    "        n+=1\n",
    "    else:\n",
    "        print('greater than',num)\n",
    "less_than(5)"
   ]
  },
  {
   "cell_type": "code",
   "execution_count": 22,
   "id": "8f0d0a4e",
   "metadata": {},
   "outputs": [
    {
     "name": "stdout",
     "output_type": "stream",
     "text": [
      "190\n"
     ]
    }
   ],
   "source": [
    "#Question 7\n",
    "def sumfunction(num):\n",
    "    n = 1\n",
    "    sum = 0\n",
    "    while n < num:\n",
    "        sum = sum + n\n",
    "        n = n + 1\n",
    "    print(sum)\n",
    "#for example\n",
    "sumfunction(20)\n"
   ]
  },
  {
   "cell_type": "code",
   "execution_count": 24,
   "id": "9a95af8f",
   "metadata": {},
   "outputs": [
    {
     "name": "stdout",
     "output_type": "stream",
     "text": [
      "0\n",
      "1\n",
      "3\n"
     ]
    }
   ],
   "source": [
    "#Question 9\n",
    "def range_sum(num):\n",
    "    sum = 0\n",
    "    for n in range(num):\n",
    "        sum = sum + n\n",
    "        print(sum)\n",
    "range_sum(3)"
   ]
  },
  {
   "cell_type": "code",
   "execution_count": null,
   "id": "09010a79",
   "metadata": {},
   "outputs": [],
   "source": [
    "#Question 10\n",
    "def minimal(v1, v2, v3, v4):\n",
    "    min_value = v1\n",
    "    if v2 < min_value:\n",
    "        min_value=v2\n",
    "    if v3 < min_value:\n",
    "        min_value=v3\n",
    "    if v4 < min_value:\n",
    "        min_value=v4\n",
    "    return min_value"
   ]
  }
 ],
 "metadata": {
  "kernelspec": {
   "display_name": "Python 3",
   "language": "python",
   "name": "python3"
  },
  "language_info": {
   "codemirror_mode": {
    "name": "ipython",
    "version": 3
   },
   "file_extension": ".py",
   "mimetype": "text/x-python",
   "name": "python",
   "nbconvert_exporter": "python",
   "pygments_lexer": "ipython3",
   "version": "3.8.8"
  }
 },
 "nbformat": 4,
 "nbformat_minor": 5
}
