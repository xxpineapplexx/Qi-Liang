{
 "cells": [
  {
   "cell_type": "code",
   "execution_count": 95,
   "id": "3e73f72c",
   "metadata": {},
   "outputs": [
    {
     "name": "stdout",
     "output_type": "stream",
     "text": [
      "<class 'list'>\n",
      "['white', 'black', 'blue', 'pink', 'purple']\n"
     ]
    }
   ],
   "source": [
    "#Question 1\n",
    "colors =[\"white\",\"black\",\"blue\",\"pink\",\"purple\"]\n",
    "print(type(colors))\n",
    "print(colors)"
   ]
  },
  {
   "cell_type": "code",
   "execution_count": 107,
   "id": "ff5b0378",
   "metadata": {},
   "outputs": [
    {
     "name": "stdout",
     "output_type": "stream",
     "text": [
      "[30, 33, 36, 39, 42, 45, 48, 51, 54, 57, 60]\n"
     ]
    }
   ],
   "source": [
    "#Quesion 2\n",
    "nums = list(range(30,63,3))\n",
    "print(nums)"
   ]
  },
  {
   "cell_type": "code",
   "execution_count": 109,
   "id": "75c60b5e",
   "metadata": {},
   "outputs": [
    {
     "name": "stdout",
     "output_type": "stream",
     "text": [
      "(30, 33, 36, 39, 42, 45, 48, 51, 54, 57, 60)\n"
     ]
    }
   ],
   "source": [
    "nums_tuple=tuple(nums)\n",
    "print(nums_tuple)"
   ]
  },
  {
   "cell_type": "code",
   "execution_count": 110,
   "id": "ab40d9cb",
   "metadata": {},
   "outputs": [
    {
     "name": "stdout",
     "output_type": "stream",
     "text": [
      "[]\n"
     ]
    }
   ],
   "source": [
    "#Question 3\n",
    "empty_list = []\n",
    "print(empty_list)"
   ]
  },
  {
   "cell_type": "code",
   "execution_count": 111,
   "id": "ba29395e",
   "metadata": {},
   "outputs": [],
   "source": [
    "for item in range(0,6):\n",
    "    empty_list.append(item)"
   ]
  },
  {
   "cell_type": "code",
   "execution_count": 112,
   "id": "11c74245",
   "metadata": {},
   "outputs": [
    {
     "data": {
      "text/plain": [
       "[0, 1, 2, 3, 4, 5]"
      ]
     },
     "execution_count": 112,
     "metadata": {},
     "output_type": "execute_result"
    }
   ],
   "source": [
    "empty_list"
   ]
  },
  {
   "cell_type": "code",
   "execution_count": 113,
   "id": "b3269bd1",
   "metadata": {},
   "outputs": [],
   "source": [
    "del empty_list [2]"
   ]
  },
  {
   "cell_type": "code",
   "execution_count": 114,
   "id": "d6153d8a",
   "metadata": {
    "scrolled": true
   },
   "outputs": [
    {
     "data": {
      "text/plain": [
       "[0, 1, 3, 4, 5]"
      ]
     },
     "execution_count": 114,
     "metadata": {},
     "output_type": "execute_result"
    }
   ],
   "source": [
    "empty_list"
   ]
  },
  {
   "cell_type": "code",
   "execution_count": 88,
   "id": "b5419e8e",
   "metadata": {},
   "outputs": [],
   "source": [
    "empty_list.insert(2,2.0)"
   ]
  },
  {
   "cell_type": "code",
   "execution_count": 89,
   "id": "a24dcbe5",
   "metadata": {},
   "outputs": [
    {
     "data": {
      "text/plain": [
       "[0, 1, 2.0, 3, 4, 5]"
      ]
     },
     "execution_count": 89,
     "metadata": {},
     "output_type": "execute_result"
    }
   ],
   "source": [
    "empty_list"
   ]
  },
  {
   "cell_type": "code",
   "execution_count": 92,
   "id": "0573730b",
   "metadata": {},
   "outputs": [
    {
     "name": "stdout",
     "output_type": "stream",
     "text": [
      "6\n"
     ]
    }
   ],
   "source": [
    "print(len(empty_list))"
   ]
  },
  {
   "cell_type": "code",
   "execution_count": 93,
   "id": "95721f39",
   "metadata": {},
   "outputs": [
    {
     "name": "stdout",
     "output_type": "stream",
     "text": [
      "5\n"
     ]
    }
   ],
   "source": [
    "print(max(empty_list))"
   ]
  },
  {
   "cell_type": "code",
   "execution_count": 94,
   "id": "b65f8097",
   "metadata": {},
   "outputs": [
    {
     "name": "stdout",
     "output_type": "stream",
     "text": [
      "0\n"
     ]
    }
   ],
   "source": [
    "print(min(empty_list))"
   ]
  },
  {
   "cell_type": "code",
   "execution_count": 103,
   "id": "5f8c84ef",
   "metadata": {},
   "outputs": [],
   "source": [
    "#Question 3\n",
    "nums = list(range(1,11))"
   ]
  },
  {
   "cell_type": "code",
   "execution_count": 105,
   "id": "50208c2c",
   "metadata": {},
   "outputs": [
    {
     "name": "stdout",
     "output_type": "stream",
     "text": [
      "[1, 2, 3, 4, 5, 6, 7, 8, 9, 10]\n"
     ]
    }
   ],
   "source": [
    "print(nums)"
   ]
  },
  {
   "cell_type": "code",
   "execution_count": 106,
   "id": "af8daf8e",
   "metadata": {},
   "outputs": [
    {
     "name": "stdout",
     "output_type": "stream",
     "text": [
      "55\n"
     ]
    }
   ],
   "source": [
    "print(sum(nums))"
   ]
  }
 ],
 "metadata": {
  "kernelspec": {
   "display_name": "Python 3",
   "language": "python",
   "name": "python3"
  },
  "language_info": {
   "codemirror_mode": {
    "name": "ipython",
    "version": 3
   },
   "file_extension": ".py",
   "mimetype": "text/x-python",
   "name": "python",
   "nbconvert_exporter": "python",
   "pygments_lexer": "ipython3",
   "version": "3.8.8"
  }
 },
 "nbformat": 4,
 "nbformat_minor": 5
}
